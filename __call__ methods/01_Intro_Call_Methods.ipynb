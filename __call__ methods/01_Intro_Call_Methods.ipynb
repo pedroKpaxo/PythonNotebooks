{
 "cells": [
  {
   "cell_type": "markdown",
   "metadata": {},
   "source": [
    "# __call__ methods in python\n",
    "\n",
    "Python has a set of built-in methods and __call__ is one of them. \n",
    "<br>The __call__ method enables Python programmers to write classes where the instances behave like functions and can be called like a function. When the instance is called as a function; if this method is defined, x(arg1, arg2, ...) is a shorthand for x.__call__(arg1, arg2, ...)."
   ]
  },
  {
   "cell_type": "code",
   "execution_count": 19,
   "metadata": {},
   "outputs": [
    {
     "name": "stdout",
     "output_type": "stream",
     "text": [
      "Instance Created\n"
     ]
    }
   ],
   "source": [
    "class Printer:\n",
    "    def __init__(self, att):\n",
    "        print(\"Instance Created\")\n",
    "\n",
    "        self.att = att\n",
    "      \n",
    "    # Defining __call__ method\n",
    "    def __call__(self, *args, **kwargs):\n",
    "        \"\"\"\n",
    "        Prints arguments\n",
    "        \"\"\"\n",
    "        print(\"Instance is called via call method\")\n",
    "        # - printing an instance attribute\n",
    "        print(self.att)\n",
    "    \n",
    "# Instance created\n",
    "e = Printer(att=1)\n"
   ]
  },
  {
   "cell_type": "code",
   "execution_count": 20,
   "metadata": {},
   "outputs": [
    {
     "name": "stdout",
     "output_type": "stream",
     "text": [
      "Instance is called via call method\n",
      "1\n"
     ]
    }
   ],
   "source": [
    "e()"
   ]
  }
 ],
 "metadata": {
  "interpreter": {
   "hash": "767d51c1340bd893661ea55ea3124f6de3c7a262a8b4abca0554b478b1e2ff90"
  },
  "kernelspec": {
   "display_name": "Python 3.9.9 64-bit",
   "language": "python",
   "name": "python3"
  },
  "language_info": {
   "codemirror_mode": {
    "name": "ipython",
    "version": 3
   },
   "file_extension": ".py",
   "mimetype": "text/x-python",
   "name": "python",
   "nbconvert_exporter": "python",
   "pygments_lexer": "ipython3",
   "version": "3.9.9"
  },
  "orig_nbformat": 4
 },
 "nbformat": 4,
 "nbformat_minor": 2
}
