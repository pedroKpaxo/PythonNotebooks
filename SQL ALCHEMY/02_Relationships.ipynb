{
 "cells": [
  {
   "cell_type": "code",
   "execution_count": 20,
   "metadata": {},
   "outputs": [],
   "source": [
    "from sqlalchemy import create_engine\n",
    "from sqlalchemy.orm import declarative_base,sessionmaker\n",
    "from sqlalchemy import Column, Integer, String, Boolean, Float, ForeignKey\n",
    "from sqlalchemy.orm import relationship\n",
    "\n",
    "\n",
    "# - Criando uma engine.\n",
    "engine = create_engine('sqlite:///relationships.db', echo=True)\n",
    "Base = declarative_base()\n"
   ]
  },
  {
   "cell_type": "markdown",
   "metadata": {},
   "source": [
    "# Construindo modelo de poço ilustrativo"
   ]
  },
  {
   "cell_type": "code",
   "execution_count": 21,
   "metadata": {},
   "outputs": [],
   "source": [
    "class Basin(Base):\n",
    "    __tablename__ = 'Basin'\n",
    "    \n",
    "    name = Column(String, primary_key=True)\n",
    "    onshore = Column(Boolean)\n",
    "    offshore = Column(Boolean)\n",
    "    wells = relationship('Well')\n"
   ]
  },
  {
   "cell_type": "code",
   "execution_count": 22,
   "metadata": {},
   "outputs": [],
   "source": [
    "class Well(Base):\n",
    "    __tablename__ = 'Well'\n",
    "    api = Column(Integer,primary_key=True)\n",
    "    name_ANP = Column(String)\n",
    "    name_operator = Column(String)\n",
    "    basin = Column(String,ForeignKey('Basin.name'))\n",
    "    def __repr__(self):\n",
    "        return f\"<User(name_ANP={self.name_ANP}, name_operator={self.name_operator})>\"\n"
   ]
  },
  {
   "cell_type": "code",
   "execution_count": null,
   "metadata": {},
   "outputs": [],
   "source": [
    "class Parent(Base):\n",
    "    __tablename__ = 'parent'\n",
    "    id = Column(Integer, primary_key=True)\n",
    "    children = relationship(\"Child\")\n",
    "\n",
    "class Child(Base):\n",
    "    __tablename__ = 'child'\n",
    "    id = Column(Integer, primary_key=True)\n",
    "    parent_id = Column(Integer, ForeignKey('parent.id'))"
   ]
  },
  {
   "cell_type": "code",
   "execution_count": 27,
   "metadata": {},
   "outputs": [
    {
     "name": "stdout",
     "output_type": "stream",
     "text": [
      "2022-02-09 16:47:47,458 INFO sqlalchemy.engine.Engine BEGIN (implicit)\n",
      "2022-02-09 16:47:47,470 INFO sqlalchemy.engine.Engine PRAGMA main.table_info(\"Basin\")\n",
      "2022-02-09 16:47:47,474 INFO sqlalchemy.engine.Engine [raw sql] ()\n",
      "2022-02-09 16:47:47,477 INFO sqlalchemy.engine.Engine PRAGMA temp.table_info(\"Basin\")\n",
      "2022-02-09 16:47:47,479 INFO sqlalchemy.engine.Engine [raw sql] ()\n",
      "2022-02-09 16:47:47,481 INFO sqlalchemy.engine.Engine PRAGMA main.table_info(\"Well\")\n",
      "2022-02-09 16:47:47,496 INFO sqlalchemy.engine.Engine [raw sql] ()\n",
      "2022-02-09 16:47:47,498 INFO sqlalchemy.engine.Engine PRAGMA temp.table_info(\"Well\")\n",
      "2022-02-09 16:47:47,500 INFO sqlalchemy.engine.Engine [raw sql] ()\n",
      "2022-02-09 16:47:47,509 INFO sqlalchemy.engine.Engine \n",
      "CREATE TABLE \"Basin\" (\n",
      "\tname VARCHAR NOT NULL, \n",
      "\tonshore BOOLEAN, \n",
      "\toffshore BOOLEAN, \n",
      "\tPRIMARY KEY (name)\n",
      ")\n",
      "\n",
      "\n",
      "2022-02-09 16:47:47,516 INFO sqlalchemy.engine.Engine [no key 0.00637s] ()\n",
      "2022-02-09 16:47:47,539 INFO sqlalchemy.engine.Engine \n",
      "CREATE TABLE \"Well\" (\n",
      "\tapi INTEGER NOT NULL, \n",
      "\t\"name_ANP\" VARCHAR, \n",
      "\tname_operator VARCHAR, \n",
      "\tbasin VARCHAR, \n",
      "\tPRIMARY KEY (api), \n",
      "\tFOREIGN KEY(basin) REFERENCES \"Basin\" (name)\n",
      ")\n",
      "\n",
      "\n",
      "2022-02-09 16:47:47,545 INFO sqlalchemy.engine.Engine [no key 0.00559s] ()\n",
      "2022-02-09 16:47:47,559 INFO sqlalchemy.engine.Engine COMMIT\n"
     ]
    }
   ],
   "source": [
    "Base.metadata.create_all(engine)"
   ]
  },
  {
   "cell_type": "code",
   "execution_count": 28,
   "metadata": {},
   "outputs": [],
   "source": [
    "Session = sessionmaker(bind=engine)\n",
    "Session.configure(bind=engine)\n",
    "session = Session()"
   ]
  },
  {
   "cell_type": "code",
   "execution_count": 29,
   "metadata": {},
   "outputs": [
    {
     "name": "stdout",
     "output_type": "stream",
     "text": [
      "2022-02-09 16:47:54,250 INFO sqlalchemy.engine.Engine BEGIN (implicit)\n",
      "2022-02-09 16:47:54,255 INFO sqlalchemy.engine.Engine INSERT INTO \"Basin\" (name, onshore, offshore) VALUES (?, ?, ?)\n",
      "2022-02-09 16:47:54,260 INFO sqlalchemy.engine.Engine [cached since 75s ago] ('Parnaiba', 1, None)\n",
      "2022-02-09 16:47:54,270 INFO sqlalchemy.engine.Engine COMMIT\n"
     ]
    }
   ],
   "source": [
    "parnaiba = Basin(name='Parnaiba',onshore=True)\n",
    "session.add(parnaiba)\n",
    "session.commit()"
   ]
  },
  {
   "cell_type": "code",
   "execution_count": 30,
   "metadata": {},
   "outputs": [
    {
     "name": "stdout",
     "output_type": "stream",
     "text": [
      "2022-02-09 16:48:26,690 INFO sqlalchemy.engine.Engine BEGIN (implicit)\n",
      "2022-02-09 16:48:26,697 INFO sqlalchemy.engine.Engine INSERT INTO \"Well\" (\"name_ANP\", name_operator, basin) VALUES (?, ?, ?)\n",
      "2022-02-09 16:48:26,700 INFO sqlalchemy.engine.Engine [generated in 0.00315s] ('BAC001', 'BAC001', 'Parnaiba')\n",
      "2022-02-09 16:48:26,702 INFO sqlalchemy.engine.Engine COMMIT\n"
     ]
    }
   ],
   "source": [
    "poco1 = Well(name_ANP='BAC001',name_operator='BAC001',basin='Parnaiba')\n",
    "session.add(poco1)\n",
    "session.commit()"
   ]
  }
 ],
 "metadata": {
  "interpreter": {
   "hash": "767d51c1340bd893661ea55ea3124f6de3c7a262a8b4abca0554b478b1e2ff90"
  },
  "kernelspec": {
   "display_name": "Python 3.9.9 64-bit",
   "language": "python",
   "name": "python3"
  },
  "language_info": {
   "codemirror_mode": {
    "name": "ipython",
    "version": 3
   },
   "file_extension": ".py",
   "mimetype": "text/x-python",
   "name": "python",
   "nbconvert_exporter": "python",
   "pygments_lexer": "ipython3",
   "version": "3.9.9"
  },
  "orig_nbformat": 4
 },
 "nbformat": 4,
 "nbformat_minor": 2
}
