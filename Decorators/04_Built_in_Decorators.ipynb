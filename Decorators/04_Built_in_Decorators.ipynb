{
 "cells": [
  {
   "cell_type": "markdown",
   "metadata": {},
   "source": [
    "# Python Built in Decorators"
   ]
  },
  {
   "cell_type": "markdown",
   "metadata": {},
   "source": [
    "## @classmethod: Creates an instance of the class. \n",
    "\n",
    "(Pass clsnotself)\n",
    "\n",
    "Example: Suppose you are getting data from different data types instead of creating multiple classes we can handle it using @classmethod."
   ]
  },
  {
   "cell_type": "code",
   "execution_count": 1,
   "metadata": {},
   "outputs": [
    {
     "name": "stdout",
     "output_type": "stream",
     "text": [
      "['one', 'two', 'three']\n",
      "['one', 'two', 'three']\n",
      "['one', 'two', 'three']\n"
     ]
    }
   ],
   "source": [
    "class Datatypes():\n",
    "    def __init__(self, *args):\n",
    "        self.args = list(args[0])\n",
    "        \n",
    "    def __call__(self):\n",
    "        print(self.args)\n",
    "\n",
    "    @classmethod\n",
    "    def from_list(cls, arglist):\n",
    "        args = tuple(arglist)\n",
    "        instance = cls(args)\n",
    "        return instance\n",
    "\n",
    "    @classmethod\n",
    "    def from_tuple(cls, argtuple):\n",
    "        args = argtuple\n",
    "        instance = cls(args)\n",
    "        return instance\n",
    "\n",
    "    @classmethod\n",
    "    def from_dict(cls, argdict):\n",
    "        args = tuple(argdict.values())\n",
    "        instance = cls(args)\n",
    "        return instance\n",
    "    \n",
    "list_instance = Datatypes.from_list([\"one\", \"two\", \"three\"])\n",
    "tuple_instance = Datatypes.from_tuple((\"one\", \"two\", \"three\"))\n",
    "dict_instance = Datatypes.from_dict({1:\"one\", 2:\"two\", 3:'three'})\n",
    "\n",
    "list_instance() # runs __call__ method in the class (by default).\n",
    "tuple_instance()\n",
    "dict_instance()\n",
    "\n"
   ]
  },
  {
   "cell_type": "markdown",
   "metadata": {},
   "source": [
    "## @staticmethod: \n",
    "\n",
    "You can use the methods with this decorator without creating a class instance. (No need to pass self)\n",
    "\n",
    "Example: Suppose you want to create some helper functions for a class that contains some logic but it is a not property of the class."
   ]
  },
  {
   "cell_type": "code",
   "execution_count": 2,
   "metadata": {},
   "outputs": [
    {
     "name": "stdout",
     "output_type": "stream",
     "text": [
      "multiply [1, 2, 3]\n",
      "6\n",
      "multiply [1, 2, 'three']\n"
     ]
    },
    {
     "ename": "Exception",
     "evalue": "Accepts only integers.",
     "output_type": "error",
     "traceback": [
      "\u001b[0;31m---------------------------------------------------------------------------\u001b[0m",
      "\u001b[0;31mException\u001b[0m                                 Traceback (most recent call last)",
      "\u001b[0;32m/tmp/ipykernel_28144/805328321.py\u001b[0m in \u001b[0;36m<module>\u001b[0;34m\u001b[0m\n\u001b[1;32m     21\u001b[0m \u001b[0minvalid\u001b[0m \u001b[0;34m=\u001b[0m \u001b[0mMultiply\u001b[0m\u001b[0;34m(\u001b[0m\u001b[0;34m[\u001b[0m\u001b[0;36m1\u001b[0m\u001b[0;34m,\u001b[0m \u001b[0;36m2\u001b[0m\u001b[0;34m,\u001b[0m \u001b[0;34m\"three\"\u001b[0m\u001b[0;34m]\u001b[0m\u001b[0;34m)\u001b[0m\u001b[0;34m\u001b[0m\u001b[0;34m\u001b[0m\u001b[0m\n\u001b[1;32m     22\u001b[0m \u001b[0mvalid\u001b[0m\u001b[0;34m(\u001b[0m\u001b[0;34m)\u001b[0m\u001b[0;34m\u001b[0m\u001b[0;34m\u001b[0m\u001b[0m\n\u001b[0;32m---> 23\u001b[0;31m \u001b[0minvalid\u001b[0m\u001b[0;34m(\u001b[0m\u001b[0;34m)\u001b[0m\u001b[0;34m\u001b[0m\u001b[0;34m\u001b[0m\u001b[0m\n\u001b[0m",
      "\u001b[0;32m/tmp/ipykernel_28144/805328321.py\u001b[0m in \u001b[0;36m__call__\u001b[0;34m(self)\u001b[0m\n\u001b[1;32m      5\u001b[0m     \u001b[0;32mdef\u001b[0m \u001b[0m__call__\u001b[0m\u001b[0;34m(\u001b[0m\u001b[0mself\u001b[0m\u001b[0;34m)\u001b[0m\u001b[0;34m:\u001b[0m\u001b[0;34m\u001b[0m\u001b[0;34m\u001b[0m\u001b[0m\n\u001b[1;32m      6\u001b[0m         \u001b[0mprint\u001b[0m\u001b[0;34m(\u001b[0m\u001b[0;34mf\"multiply {self.numbers}\"\u001b[0m\u001b[0;34m)\u001b[0m\u001b[0;34m\u001b[0m\u001b[0;34m\u001b[0m\u001b[0m\n\u001b[0;32m----> 7\u001b[0;31m         \u001b[0mself\u001b[0m\u001b[0;34m.\u001b[0m\u001b[0mchecker\u001b[0m\u001b[0;34m(\u001b[0m\u001b[0mself\u001b[0m\u001b[0;34m.\u001b[0m\u001b[0mnumbers\u001b[0m\u001b[0;34m)\u001b[0m\u001b[0;34m\u001b[0m\u001b[0;34m\u001b[0m\u001b[0m\n\u001b[0m\u001b[1;32m      8\u001b[0m         \u001b[0mself\u001b[0m\u001b[0;34m.\u001b[0m\u001b[0mresult\u001b[0m \u001b[0;34m=\u001b[0m \u001b[0;36m1\u001b[0m\u001b[0;34m\u001b[0m\u001b[0;34m\u001b[0m\u001b[0m\n\u001b[1;32m      9\u001b[0m         \u001b[0;32mfor\u001b[0m \u001b[0mnum\u001b[0m \u001b[0;32min\u001b[0m \u001b[0mself\u001b[0m\u001b[0;34m.\u001b[0m\u001b[0mnumbers\u001b[0m\u001b[0;34m:\u001b[0m\u001b[0;34m\u001b[0m\u001b[0;34m\u001b[0m\u001b[0m\n",
      "\u001b[0;32m/tmp/ipykernel_28144/805328321.py\u001b[0m in \u001b[0;36mchecker\u001b[0;34m(numbers)\u001b[0m\n\u001b[1;32m     15\u001b[0m         \u001b[0;32mfor\u001b[0m \u001b[0mnum\u001b[0m \u001b[0;32min\u001b[0m \u001b[0mnumbers\u001b[0m\u001b[0;34m:\u001b[0m\u001b[0;34m\u001b[0m\u001b[0;34m\u001b[0m\u001b[0m\n\u001b[1;32m     16\u001b[0m             \u001b[0;32mif\u001b[0m \u001b[0mtype\u001b[0m\u001b[0;34m(\u001b[0m\u001b[0mnum\u001b[0m\u001b[0;34m)\u001b[0m \u001b[0;34m!=\u001b[0m \u001b[0mint\u001b[0m\u001b[0;34m:\u001b[0m\u001b[0;34m\u001b[0m\u001b[0;34m\u001b[0m\u001b[0m\n\u001b[0;32m---> 17\u001b[0;31m                 \u001b[0;32mraise\u001b[0m \u001b[0mException\u001b[0m\u001b[0;34m(\u001b[0m\u001b[0;34m\"Accepts only integers.\"\u001b[0m\u001b[0;34m)\u001b[0m\u001b[0;34m\u001b[0m\u001b[0;34m\u001b[0m\u001b[0m\n\u001b[0m\u001b[1;32m     18\u001b[0m \u001b[0;34m\u001b[0m\u001b[0m\n\u001b[1;32m     19\u001b[0m \u001b[0;34m\u001b[0m\u001b[0m\n",
      "\u001b[0;31mException\u001b[0m: Accepts only integers."
     ]
    }
   ],
   "source": [
    "class Multiply:\n",
    "    def __init__(self, numbers):\n",
    "        self.numbers = numbers\n",
    "\n",
    "    def __call__(self):\n",
    "        print(f\"multiply {self.numbers}\")\n",
    "        self.checker(self.numbers)\n",
    "        self.result = 1\n",
    "        for num in self.numbers:\n",
    "            self.result *= num\n",
    "        print(self.result)\n",
    "\n",
    "    @staticmethod\n",
    "    def checker(numbers):\n",
    "        for num in numbers:\n",
    "            if type(num) != int:\n",
    "                raise Exception(\"Accepts only integers.\")\n",
    "\n",
    "\n",
    "valid = Multiply([1, 2, 3])\n",
    "invalid = Multiply([1, 2, \"three\"])\n",
    "valid()\n",
    "invalid()\n"
   ]
  },
  {
   "cell_type": "markdown",
   "metadata": {},
   "source": [
    "## @Property: A way to use get & set commands in OOPs.\n",
    "\n",
    "Example: Suppose there are some constraints to assign a variable in a class we can use @property to deal with this kind of situation instead of creating a chain rule of every change we make."
   ]
  },
  {
   "cell_type": "code",
   "execution_count": 5,
   "metadata": {},
   "outputs": [],
   "source": [
    "class Storage:\n",
    "    \"\"\" \n",
    "    MaxLimit of storage is 100\n",
    "    \"\"\"\n",
    "    def __init__(self, maxlimit=0):\n",
    "        self.limit = 100\n",
    "        self.maxlimit = maxlimit\n",
    "    \n",
    "    @property    \n",
    "    def maxlimit(self):\n",
    "        \"\"\" Getting maxlimit value\n",
    "        Returns:\n",
    "            int: Maxlimit of storage\n",
    "        \"\"\"\n",
    "        return self._maxlimit\n",
    "    \n",
    "    @maxlimit.setter\n",
    "    def maxlimit(self, value): \n",
    "        \"\"\"Setting Value\n",
    "        Args:\n",
    "            value ([int]): [New storage]\n",
    "        Raises:\n",
    "            Exception: [Storage limit Exceded]\n",
    "        \"\"\"\n",
    "        if value > self.limit:\n",
    "            raise Exception(f\"Storage limit exceded. Box Max Limit => {self.limit}\")\n",
    "        else:\n",
    "            self._maxlimit = value\n",
    "\n",
    "\n"
   ]
  },
  {
   "cell_type": "code",
   "execution_count": 6,
   "metadata": {},
   "outputs": [
    {
     "name": "stdout",
     "output_type": "stream",
     "text": [
      "Box Limit => 45\n"
     ]
    }
   ],
   "source": [
    "box = Storage(45)\n",
    "print(f\"Box Limit => {box.maxlimit}\")\n"
   ]
  },
  {
   "cell_type": "code",
   "execution_count": 7,
   "metadata": {},
   "outputs": [
    {
     "ename": "Exception",
     "evalue": "Storage limit exceded. Box Max Limit => 100",
     "output_type": "error",
     "traceback": [
      "\u001b[0;31m---------------------------------------------------------------------------\u001b[0m",
      "\u001b[0;31mException\u001b[0m                                 Traceback (most recent call last)",
      "\u001b[0;32m/tmp/ipykernel_28144/3496029065.py\u001b[0m in \u001b[0;36m<module>\u001b[0;34m\u001b[0m\n\u001b[0;32m----> 1\u001b[0;31m \u001b[0mbox\u001b[0m\u001b[0;34m.\u001b[0m\u001b[0mmaxlimit\u001b[0m \u001b[0;34m=\u001b[0m \u001b[0;36m200\u001b[0m\u001b[0;34m\u001b[0m\u001b[0;34m\u001b[0m\u001b[0m\n\u001b[0m\u001b[1;32m      2\u001b[0m \u001b[0mprint\u001b[0m\u001b[0;34m(\u001b[0m\u001b[0;34mf\"Box Limit => {box.maxlimit}\"\u001b[0m\u001b[0;34m)\u001b[0m\u001b[0;34m\u001b[0m\u001b[0;34m\u001b[0m\u001b[0m\n",
      "\u001b[0;32m/tmp/ipykernel_28144/500614564.py\u001b[0m in \u001b[0;36mmaxlimit\u001b[0;34m(self, value)\u001b[0m\n\u001b[1;32m     24\u001b[0m         \"\"\"\n\u001b[1;32m     25\u001b[0m         \u001b[0;32mif\u001b[0m \u001b[0mvalue\u001b[0m \u001b[0;34m>\u001b[0m \u001b[0mself\u001b[0m\u001b[0;34m.\u001b[0m\u001b[0mlimit\u001b[0m\u001b[0;34m:\u001b[0m\u001b[0;34m\u001b[0m\u001b[0;34m\u001b[0m\u001b[0m\n\u001b[0;32m---> 26\u001b[0;31m             \u001b[0;32mraise\u001b[0m \u001b[0mException\u001b[0m\u001b[0;34m(\u001b[0m\u001b[0;34mf\"Storage limit exceded. Box Max Limit => {self.limit}\"\u001b[0m\u001b[0;34m)\u001b[0m\u001b[0;34m\u001b[0m\u001b[0;34m\u001b[0m\u001b[0m\n\u001b[0m\u001b[1;32m     27\u001b[0m         \u001b[0;32melse\u001b[0m\u001b[0;34m:\u001b[0m\u001b[0;34m\u001b[0m\u001b[0;34m\u001b[0m\u001b[0m\n\u001b[1;32m     28\u001b[0m             \u001b[0mself\u001b[0m\u001b[0;34m.\u001b[0m\u001b[0m_maxlimit\u001b[0m \u001b[0;34m=\u001b[0m \u001b[0mvalue\u001b[0m\u001b[0;34m\u001b[0m\u001b[0;34m\u001b[0m\u001b[0m\n",
      "\u001b[0;31mException\u001b[0m: Storage limit exceded. Box Max Limit => 100"
     ]
    }
   ],
   "source": [
    "box.maxlimit = 200\n",
    "print(f\"Box Limit => {box.maxlimit}\")"
   ]
  }
 ],
 "metadata": {
  "interpreter": {
   "hash": "767d51c1340bd893661ea55ea3124f6de3c7a262a8b4abca0554b478b1e2ff90"
  },
  "kernelspec": {
   "display_name": "Python 3.9.9 64-bit",
   "language": "python",
   "name": "python3"
  },
  "language_info": {
   "codemirror_mode": {
    "name": "ipython",
    "version": 3
   },
   "file_extension": ".py",
   "mimetype": "text/x-python",
   "name": "python",
   "nbconvert_exporter": "python",
   "pygments_lexer": "ipython3",
   "version": "3.9.9"
  },
  "orig_nbformat": 4
 },
 "nbformat": 4,
 "nbformat_minor": 2
}
