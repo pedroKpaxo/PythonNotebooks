{
 "cells": [
  {
   "cell_type": "markdown",
   "metadata": {},
   "source": [
    "# Classes as decorators\n",
    "\n",
    "In Python, decorators can be either functions or classes. In both cases, decorating adds functionality to existing functions. When we decorate a function with a class, that function becomes an instance of the class. We can add functionality to the function by defining methods in the decorating class. This can all be achieved without modifying the original function source code.\n",
    "\n",
    "This tutorial will demonstrate how classes can be used to decorate the functions we write in our Python code. Two use-cases will be showcased, namely: decorating a function with a Class that accepts no arguments, and decorating a function with a class than can accept arguments. If no arguments are passed, our class will fall back to a default value.\n",
    "I have specifically simplified the examples presented to aid understanding.\n",
    "\n",
    "<br>Similar outcomes could be achieved using alternative, simpler approaches, but my purpose overall in this tutorial is to demonstrate how we can use classes to decorate functions and extend their functionality.\n",
    "This tutorial was also motivated to showcase how to use decorated classes which can accept arguments themselves."
   ]
  },
  {
   "cell_type": "markdown",
   "metadata": {},
   "source": [
    "## The multiple together function\n",
    "\n",
    "The multiple together function is designed to take two integer values, multiply them together and return their output. Let's consider the scenario, where we would like to add some extra functionality to this function without changing its original source code. Here, would we like to square the returned value? We can achieve this using a class decorator.\n",
    "To decorate a function with a class, we must use the @syntax followed by our class name above the function definition. Following convention, we will use camel-case for our class name. In the class definition, we define two methods: the init constructor and the magic (or dunder) call method.\n",
    "\n",
    "When we decorate a function with a class, the function is automatically passed as the first argument to the init constructor. We set this function as an attribute in our object. If we print multiply_together now, we can see it is an instance of the Power class.\n",
    "By defining the __call__() method, we can call multiply together as you could with the original function. Here, we can see that we multiply 2 by 2 and square the answer.\n",
    "\n",
    "In the call method, which requires two arguments (specified because our original multiply together function required two arguments), we call the multiply together function with these two arguments. This function has been set as self._arg in the object.attribute syntax below. We call this function with two values passed and save the returned value to the variable retval. Finally, we square retval and return the value."
   ]
  },
  {
   "cell_type": "code",
   "execution_count": 7,
   "metadata": {},
   "outputs": [
    {
     "name": "stdout",
     "output_type": "stream",
     "text": [
      "<__main__.Power object at 0x7f2a027eb880>\n",
      "16\n"
     ]
    }
   ],
   "source": [
    "class Power(object):\n",
    "\tdef __init__(self, arg):\n",
    "\t\tself._arg = arg\n",
    "\n",
    "\tdef __call__(self, a, b, *args):\n",
    "\t\tretval = self._arg(a, b)\n",
    "\t\treturn retval ** 2\n",
    "\n",
    "\n",
    "@Power\n",
    "def multiply_together(a, b):\n",
    "\treturn a * b\n",
    "\n",
    "\n",
    "print(multiply_together)\n",
    "print(multiply_together(2, 2))"
   ]
  },
  {
   "cell_type": "markdown",
   "metadata": {},
   "source": [
    "## Extending multiply_together’s functionality\n",
    "\n",
    "To extend the example presented in the previous section, we can give our Power object some memory of the squared values returned. We can set an empty list to the memory attribute of our object, and append to this list every time we call the decorated function. Finally, we can define a method, named memory below to return the values stored in the list held by the memory attribute.\n",
    "\n",
    "This way, we have extended the functionality of our multiply together function further. The source code for this example can be found here."
   ]
  },
  {
   "cell_type": "code",
   "execution_count": 17,
   "metadata": {},
   "outputs": [
    {
     "name": "stdout",
     "output_type": "stream",
     "text": [
      "<__main__.PowerMemory object at 0x7f2a02777b50>\n",
      "16\n"
     ]
    }
   ],
   "source": [
    "class PowerMemory(object):\n",
    "    def __init__(self, arg):\n",
    "        self._arg = arg\n",
    "        self._memory = []\n",
    "\n",
    "    def __call__(self, a, b, *args):\n",
    "        retval = self._arg(a, b)\n",
    "        self._memory.append(retval**2)\n",
    "        return retval ** 2\n",
    "\n",
    "    def memory(self):\n",
    "        return self._memory\n",
    "\n",
    "@PowerMemory\n",
    "def multiply_together_PM(a, b):\n",
    "    return a * b\n",
    "\n",
    "\n",
    "print(multiply_together)\n",
    "print(multiply_together(2, 2))\n"
   ]
  },
  {
   "cell_type": "markdown",
   "metadata": {},
   "source": [
    "## Class Decorators that can accept arguments\n",
    "\n",
    "To increase the functionality of the example even further, it would be better to have our class decorator accept arguments. In this way, we could choose which value we would like to use as the exponent with our Power class. In addition, if no argument is passed to the class decorator, a default exponent value will be set."
   ]
  },
  {
   "cell_type": "markdown",
   "metadata": {},
   "source": [
    "## Passing arguments to the class decorator\n",
    "\n",
    "When we pass an argument to the class decorator, that argument and not the function is passed as the argument to the init constructor. In the example presented, we pass the integer value 3 as an argument to the Power class constructor. This value is saved as an attribute, underscore arg (_arg) in the object. The function is then passed as the only argument when we define the call method.\n",
    "\n",
    "Therefore if the length of the arguments passed to the call method is equal to 1, as would be the case if we pass a decorator argument to the class, this first argument to the call method will be set as the function. We can then define an inner function inside the call method that takes two arguments, a and b. The call method returns the wrapper function if the length of the arguments passed to call is 1, and we can call this function with two values passed and finally multiple it by the integer (stored under the attribute _arg) that was originally passed to the class as an argument (see example below).\n",
    "\n",
    "To add flexibility to our call method, we use the asterisks *followed by the parameter name, here, param_arg. This means this parameter can accept a variable number of arguments which are stored in a tuple and allows length checking.\n",
    "To aid this description I have included the corresponding example, with the accompanying doc string below.\n"
   ]
  },
  {
   "cell_type": "code",
   "execution_count": 37,
   "metadata": {},
   "outputs": [],
   "source": [
    "class PowerArguments:\n",
    "    def __init__(self,arg):\n",
    "        self._arg = arg\n",
    "\n",
    "    def __call__(self, *param_arg):\n",
    "        \"\"\" \n",
    "        If there are decorator arguments, __call__ is only called once,\n",
    "        by the decoration process.\n",
    "        You can only give it a single argument, wich is the function object.\n",
    "\n",
    "        if there are no decorator arguments, \n",
    "        the function to be decorated is passed to the constructor\n",
    "        \"\"\"\n",
    "        if len(param_arg) == 1:\n",
    "            def wrapper(a,b):\n",
    "                retval = param_arg[0](a,b)\n",
    "                return retval ** self._arg\n",
    "            return wrapper   \n",
    "        else:\n",
    "            expo = 2\n",
    "            retval = self._arg(param_arg[0], param_arg[1])\n",
    "            return retval ** expo\n",
    "\n",
    "\n",
    "@PowerArguments\n",
    "def multiply_together_pa(a, b):\n",
    "    return a * b"
   ]
  },
  {
   "cell_type": "code",
   "execution_count": 35,
   "metadata": {},
   "outputs": [
    {
     "name": "stdout",
     "output_type": "stream",
     "text": [
      "729\n"
     ]
    }
   ],
   "source": [
    "print(multiply_together_pa(3,3))"
   ]
  },
  {
   "cell_type": "markdown",
   "metadata": {},
   "source": [
    "# Summary\n",
    "\n",
    "The output from the code above could be achieved through simpler means, however, this article focuses on how to use class decorators, therefore my emphasis has been on easy-to-follow examples. Functions can be decorated with classes to extended their functionality. Further, classes that decorate functions can either accept arguments or fall back to a default if no argument is passed. Here, both use-cases are presented to improve the functionality of the original function."
   ]
  }
 ],
 "metadata": {
  "interpreter": {
   "hash": "767d51c1340bd893661ea55ea3124f6de3c7a262a8b4abca0554b478b1e2ff90"
  },
  "kernelspec": {
   "display_name": "Python 3.9.9 64-bit",
   "language": "python",
   "name": "python3"
  },
  "language_info": {
   "codemirror_mode": {
    "name": "ipython",
    "version": 3
   },
   "file_extension": ".py",
   "mimetype": "text/x-python",
   "name": "python",
   "nbconvert_exporter": "python",
   "pygments_lexer": "ipython3",
   "version": "3.9.9"
  },
  "orig_nbformat": 4
 },
 "nbformat": 4,
 "nbformat_minor": 2
}
