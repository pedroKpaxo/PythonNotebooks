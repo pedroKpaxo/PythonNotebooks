{
 "cells": [
  {
   "cell_type": "markdown",
   "metadata": {},
   "source": [
    "# Exploring functions inside functions\n",
    "\n",
    "Inspired by this article : https://towardsdatascience.com/decorators-in-python-advanced-8e6d3e509ffe"
   ]
  },
  {
   "cell_type": "markdown",
   "metadata": {},
   "source": [
    "what's the problem code below?"
   ]
  },
  {
   "cell_type": "code",
   "execution_count": 1,
   "metadata": {},
   "outputs": [],
   "source": [
    "def factorial(n):\n",
    "    \"\"\" \n",
    "    Calculates the factorial of n, \n",
    "    n => integer and n >= 0.\n",
    "    \"\"\"\n",
    "    if type(n) == int and n >= 0:\n",
    "        if n == 0:\n",
    "            return 1\n",
    "        else:\n",
    "            return n * factorial(n-1) # Recursive Call\n",
    "    else:\n",
    "        raise TypeError(\"n should be an integer and n >= 0\")\n"
   ]
  },
  {
   "cell_type": "markdown",
   "metadata": {},
   "source": [
    "factorial(10) checks type of 10,9,8,7,…recursively which is not necessary.\n",
    "<br>We can solve this elegantly by using inner functions."
   ]
  },
  {
   "cell_type": "code",
   "execution_count": 2,
   "metadata": {},
   "outputs": [],
   "source": [
    "def elegant_factorial(n):\n",
    "    \"\"\" \n",
    "    Calculates the factorial of n, \n",
    "    n => integer and n >= 0.\n",
    "    \"\"\"\n",
    "    def inner_factorial(n):\n",
    "        if n == 0:\n",
    "            return 1\n",
    "        else:\n",
    "            return n * inner_factorial(n-1)\n",
    "    if type(n) == int and n >=0:\n",
    "        return inner_factorial(n)\n",
    "    else:\n",
    "        raise TypeError(\"n should be an integer and n >= 0\")"
   ]
  },
  {
   "cell_type": "markdown",
   "metadata": {},
   "source": [
    "# Pass a function as a parameter to other functions."
   ]
  },
  {
   "cell_type": "code",
   "execution_count": null,
   "metadata": {},
   "outputs": [],
   "source": [
    "import math\n",
    "\n",
    "def sin_cos(func, var):\n",
    "    print(\"Call this\" + func.__name__ +\"function\")\n",
    "    print(func(var))\n"
   ]
  },
  {
   "cell_type": "code",
   "execution_count": null,
   "metadata": {},
   "outputs": [],
   "source": [
    "sin_cos(math.sin, 60) \n",
    "sin_cos(math.cos, 45) "
   ]
  },
  {
   "cell_type": "markdown",
   "metadata": {},
   "source": [
    "# Functions that returns other functions"
   ]
  },
  {
   "cell_type": "code",
   "execution_count": 3,
   "metadata": {},
   "outputs": [],
   "source": [
    "def sound(range:str):    \n",
    "    \"\"\" \n",
    "    Args: range (Type of sound). (<class 'str'>)\n",
    "    Return: function object of the sound (<class 'function'>)\n",
    "    \"\"\" \n",
    "    def loud(x):\n",
    "        print(x.upper() + '🐯')\n",
    "        \n",
    "    def low(x):\n",
    "        print(x.lower() + '🐱')\n",
    "\n",
    "    if range == 'loud':\n",
    "        return loud\n",
    "    else:\n",
    "        return low"
   ]
  },
  {
   "cell_type": "code",
   "execution_count": 7,
   "metadata": {},
   "outputs": [
    {
     "name": "stdout",
     "output_type": "stream",
     "text": [
      "ROAR🐯\n"
     ]
    }
   ],
   "source": [
    "tiger = sound(\"loud\") \n",
    "tiger('roar')"
   ]
  },
  {
   "cell_type": "code",
   "execution_count": 8,
   "metadata": {},
   "outputs": [
    {
     "name": "stdout",
     "output_type": "stream",
     "text": [
      "meow..🐱\n"
     ]
    }
   ],
   "source": [
    "cat = sound(\"low\")\n",
    "cat(\"MEOW..\") "
   ]
  },
  {
   "cell_type": "markdown",
   "metadata": {},
   "source": [
    "It can be a bit confusing for the first time, so, letś try with some math.\n",
    "\n",
    "Ref: https://www.python-course.eu/python3_decorators.php #Functions-returning-Functions"
   ]
  },
  {
   "cell_type": "code",
   "execution_count": 10,
   "metadata": {},
   "outputs": [],
   "source": [
    "def polynomial_creator(a, b, c):\n",
    "    \"\"\"\n",
    "    Creates 2nd degree polynomial functions\n",
    "    \"\"\"\n",
    "    def polynomial(x):\n",
    "        return a * x**2 + b * x + c\n",
    "    return polynomial"
   ]
  },
  {
   "cell_type": "code",
   "execution_count": 14,
   "metadata": {},
   "outputs": [
    {
     "name": "stdout",
     "output_type": "stream",
     "text": [
      "-2\n",
      "1\n",
      "-7\n"
     ]
    }
   ],
   "source": [
    "p1 = polynomial_creator(2, 3, -1)\n",
    "p2 = polynomial_creator(-1, 2, 1)\n",
    "x = -2\n",
    "print(x)\n",
    "print(p1(x))\n",
    "print(p2(x))"
   ]
  }
 ],
 "metadata": {
  "interpreter": {
   "hash": "767d51c1340bd893661ea55ea3124f6de3c7a262a8b4abca0554b478b1e2ff90"
  },
  "kernelspec": {
   "display_name": "Python 3.9.9 64-bit",
   "language": "python",
   "name": "python3"
  },
  "language_info": {
   "codemirror_mode": {
    "name": "ipython",
    "version": 3
   },
   "file_extension": ".py",
   "mimetype": "text/x-python",
   "name": "python",
   "nbconvert_exporter": "python",
   "pygments_lexer": "ipython3",
   "version": "3.9.9"
  },
  "orig_nbformat": 4
 },
 "nbformat": 4,
 "nbformat_minor": 2
}
