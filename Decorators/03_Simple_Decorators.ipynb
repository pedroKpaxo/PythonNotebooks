{
 "cells": [
  {
   "cell_type": "markdown",
   "metadata": {},
   "source": [
    "# Simple Decorators\n",
    "\n",
    "Let’s start with a simple decorator that print’s the name of the function before it runs."
   ]
  },
  {
   "cell_type": "code",
   "execution_count": 1,
   "metadata": {},
   "outputs": [],
   "source": [
    "\n",
    "def func_name_printer(func):\n",
    "    def wrapper(*args):\n",
    "        print(\"Function that started running is \" + func.__name__)\n",
    "        func(*args)\n",
    "    return wrapper\n",
    "\n",
    "def add(*args):\n",
    "    tot_sum = 0\n",
    "    for arg in args:\n",
    "        tot_sum += arg\n",
    "    print(\"result = \" + str(tot_sum))\n",
    "\n",
    "sample = func_name_printer(add)"
   ]
  },
  {
   "cell_type": "code",
   "execution_count": 3,
   "metadata": {},
   "outputs": [
    {
     "name": "stdout",
     "output_type": "stream",
     "text": [
      "Function that started running is add\n",
      "result = 3\n",
      "Function that started running is add\n",
      "result = 14\n"
     ]
    }
   ],
   "source": [
    "sample(1,2)\n",
    "sample(1,2,5,6)"
   ]
  },
  {
   "cell_type": "markdown",
   "metadata": {},
   "source": [
    "### Pro Tip: \n",
    "\n",
    "By using *args you can send varying lengths of variables to a function. *args accepts it as a tuple. know more about *args and *kwargs\n",
    "The syntax of decorators is different from what we have expressed in the above example. It is usually denoted with @ (To Beautify your code)."
   ]
  },
  {
   "cell_type": "code",
   "execution_count": 10,
   "metadata": {},
   "outputs": [],
   "source": [
    "def func_name_printer_plain(func):\n",
    "    def wrapper(*args):\n",
    "        print(\"Function that started running is \" + func.__name__)\n",
    "        func(*args)\n",
    "    return wrapper\n",
    "\n",
    "@func_name_printer_plain\n",
    "def add(*args):\n",
    "    tot_sum = 0\n",
    "    for arg in args:\n",
    "        tot_sum += arg\n",
    "    print(\"result = \" + str(tot_sum))\n",
    "    \n",
    "@func_name_printer_plain\n",
    "def sub(*args):\n",
    "    tot_sub = args[0]-args[1]\n",
    "    print(\"result = \" + str(tot_sub))\n",
    "\n",
    "@func_name_printer_plain\n",
    "def mul(*args):\n",
    "    tot_mul = 1\n",
    "    for arg in args:\n",
    "        tot_mul *= arg\n",
    "    print(\"result = \" + str(tot_mul))   \n",
    "    "
   ]
  },
  {
   "cell_type": "code",
   "execution_count": 11,
   "metadata": {},
   "outputs": [
    {
     "name": "stdout",
     "output_type": "stream",
     "text": [
      "Function that started running is add\n",
      "result = 3\n",
      "Function that started running is mul\n",
      "result = 6\n",
      "Function that started running is sub\n",
      "result = 250\n"
     ]
    }
   ],
   "source": [
    "add(1,2)\n",
    "mul(1,2,3)\n",
    "sub(400, 150)"
   ]
  },
  {
   "cell_type": "markdown",
   "metadata": {},
   "source": [
    "#### Note: \n",
    "\n",
    "When you wrap a function using decorator the attributes of original function such as __doc__ (docstring), __name__(name of the function), __module__(module in which the function is defined) will be lost.\n"
   ]
  },
  {
   "cell_type": "markdown",
   "metadata": {},
   "source": [
    "# Using wrap \n",
    "\n",
    "Although you can overwrite them in the decorator function python has a built-in decorator @wraps to do it.\n",
    "If you look closely I’m printing the outputs of each function, If you want to return an output. you need to add an extra return inside the wrapper function."
   ]
  },
  {
   "cell_type": "code",
   "execution_count": 1,
   "metadata": {},
   "outputs": [],
   "source": [
    "from functools import wraps\n",
    "\n",
    "def func_name_printer(func):\n",
    "    @wraps(func)\n",
    "    def wrapper(*args):\n",
    "        \"\"\"\n",
    "        Prints the Name of the function.\n",
    "        \"\"\"\n",
    "        print(\"Function that started running is \" + func.__name__)\n",
    "        result = func(*args)\n",
    "        return result # Extra Return \n",
    "    return wrapper\n",
    "\n",
    "@func_name_printer\n",
    "def add(*args):\n",
    "    \"\"\"\n",
    "    Args: Tuple of Numbers:\n",
    "    Returns: Sum of the numbers in Tuple\n",
    "    \"\"\"\n",
    "    tot_sum = 0\n",
    "    for arg in args:\n",
    "        tot_sum += arg\n",
    "    return \"result = \" + str(tot_sum)\n"
   ]
  },
  {
   "cell_type": "code",
   "execution_count": 46,
   "metadata": {},
   "outputs": [],
   "source": [
    "from functools import wraps\n",
    "\n",
    "\n",
    "def acess_args(func):\n",
    "    @wraps(func)\n",
    "    def wrapper(*args,**kwargs):\n",
    "        \"\"\"\n",
    "        Prints the Name of the function.\n",
    "        \"\"\"\n",
    "        print(\"Function that started running is \" + func.__name__)\n",
    "        print(kwargs['a'])\n",
    "        \n",
    "        return func(*args,**kwargs)  # Extra Return\n",
    "    return wrapper\n",
    "\n",
    "\n",
    "@acess_args\n",
    "def simple_addadd(a, b, *args, **kwargs):\n",
    "    \"\"\"\n",
    "    Args: Tuple of Numbers:\n",
    "    Returns: Sum of the numbers in Tuple\n",
    "    \"\"\"\n",
    "    print('bomb')\n",
    "    return a+b\n"
   ]
  },
  {
   "cell_type": "code",
   "execution_count": 47,
   "metadata": {},
   "outputs": [
    {
     "name": "stdout",
     "output_type": "stream",
     "text": [
      "Function that started running is simple_addadd\n",
      "1\n",
      "bomb\n"
     ]
    },
    {
     "data": {
      "text/plain": [
       "4"
      ]
     },
     "execution_count": 47,
     "metadata": {},
     "output_type": "execute_result"
    }
   ],
   "source": [
    "simple_addadd(a=1,b=3)"
   ]
  },
  {
   "cell_type": "code",
   "execution_count": 2,
   "metadata": {},
   "outputs": [
    {
     "name": "stdout",
     "output_type": "stream",
     "text": [
      "add\n",
      "\n",
      "    Args: Tuple of Numbers:\n",
      "    Returns: Sum of the numbers in Tuple\n",
      "    \n",
      "__main__\n"
     ]
    }
   ],
   "source": [
    "print(add.__name__)\n",
    "print(add.__doc__)\n",
    "print(add.__module__)"
   ]
  },
  {
   "cell_type": "code",
   "execution_count": 3,
   "metadata": {},
   "outputs": [
    {
     "name": "stdout",
     "output_type": "stream",
     "text": [
      "Function that started running is add\n"
     ]
    },
    {
     "data": {
      "text/plain": [
       "'result = 18'"
      ]
     },
     "execution_count": 3,
     "metadata": {},
     "output_type": "execute_result"
    }
   ],
   "source": [
    "add(5,6,7)"
   ]
  }
 ],
 "metadata": {
  "interpreter": {
   "hash": "767d51c1340bd893661ea55ea3124f6de3c7a262a8b4abca0554b478b1e2ff90"
  },
  "kernelspec": {
   "display_name": "Python 3.9.9 64-bit",
   "language": "python",
   "name": "python3"
  },
  "language_info": {
   "codemirror_mode": {
    "name": "ipython",
    "version": 3
   },
   "file_extension": ".py",
   "mimetype": "text/x-python",
   "name": "python",
   "nbconvert_exporter": "python",
   "pygments_lexer": "ipython3",
   "version": "3.9.9"
  },
  "orig_nbformat": 4
 },
 "nbformat": 4,
 "nbformat_minor": 2
}
